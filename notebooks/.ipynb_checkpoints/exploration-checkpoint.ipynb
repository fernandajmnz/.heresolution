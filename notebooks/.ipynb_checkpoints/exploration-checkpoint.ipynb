{
 "cells": [
  {
   "cell_type": "code",
   "execution_count": null,
   "id": "f406c791",
   "metadata": {
    "vscode": {
     "languageId": "plaintext"
    }
   },
   "outputs": [],
   "source": [
    "import pandas as pd\n",
    "import folium\n",
    "\n",
    "# Cargar resultados de validación\n",
    "df = pd.read_csv(\"output/resultados_validacion.csv\")\n",
    "\n",
    "# Diccionario de colores por tipo de acción\n",
    "color_dict = {\n",
    "    \"eliminar\": \"red\",\n",
    "    \"corregir lado (POI_ST_SD)\": \"orange\",\n",
    "    \"cambiar MULTIDIGIT a N\": \"blue\",\n",
    "    \"marcar como excepción\": \"green\"\n",
    "}\n",
    "\n",
    "# Cargar POIs originales para obtener coordenadas\n",
    "df_pois = pd.read_csv(\"data/POIs/POI_4815075.csv\")\n",
    "\n",
    "# Asegurar que las columnas estén en mayúsculas para empatar\n",
    "df.columns = [col.upper() for col in df.columns]\n",
    "df_pois.columns = [col.upper() for col in df_pois.columns]\n",
    "\n",
    "# Hacer el merge por POI_ID\n",
    "df_merged = pd.merge(df, df_pois, how=\"left\", on=\"POI_ID\")\n",
    "\n",
    "# Crear el mapa centrado en GDL\n",
    "mapa = folium.Map(location=[20.6597, -103.3496], zoom_start=11)\n",
    "\n",
    "# Agregar puntos de POIs al mapa\n",
    "for _, row in df_merged.iterrows():\n",
    "    lat = row.get(\"LATITUDE\")\n",
    "    lon = row.get(\"LONGITUDE\")\n",
    "    accion = row.get(\"ACCION\")\n",
    "    comentario = row.get(\"COMENTARIO\", \"\")\n",
    "    color = color_dict.get(accion, \"gray\")\n",
    "\n",
    "    if pd.notnull(lat) and pd.notnull(lon):\n",
    "        folium.CircleMarker(\n",
    "            location=[lat, lon],\n",
    "            radius=3,\n",
    "            color=color,\n",
    "            fill=True,\n",
    "            fill_opacity=0.7,\n",
    "            popup=folium.Popup(f\"<b>{accion}</b><br>{comentario}\", max_width=300)\n",
    "        ).add_to(mapa)\n",
    "\n",
    "# Guardar mapa como HTML\n",
    "mapa.save(\"output/mapa_resultado.html\")\n",
    "print(\"✅ Mapa generado: output/mapa_resultado.html\")\n"
   ]
  },
  {
   "cell_type": "code",
   "execution_count": null,
   "id": "3cb87b7f",
   "metadata": {
    "vscode": {
     "languageId": "plaintext"
    }
   },
   "outputs": [],
   "source": []
  }
 ],
 "metadata": {
  "language_info": {
   "name": "python"
  }
 },
 "nbformat": 4,
 "nbformat_minor": 5
}
